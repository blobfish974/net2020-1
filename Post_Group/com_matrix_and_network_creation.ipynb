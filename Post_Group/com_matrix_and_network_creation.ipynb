{
 "metadata": {
  "language_info": {
   "codemirror_mode": {
    "name": "ipython",
    "version": 3
   },
   "file_extension": ".py",
   "mimetype": "text/x-python",
   "name": "python",
   "nbconvert_exporter": "python",
   "pygments_lexer": "ipython3",
   "version": "3.9.0-final"
  },
  "orig_nbformat": 2,
  "kernelspec": {
   "name": "python3",
   "display_name": "Python 3.9.0 64-bit",
   "metadata": {
    "interpreter": {
     "hash": "aee8b7b246df8f9039afb4144a1f6fd8d2ca17a180786b69acc140d282b71a49"
    }
   }
  }
 },
 "nbformat": 4,
 "nbformat_minor": 2,
 "cells": [
  {
   "source": [
    "# Import the data"
   ],
   "cell_type": "markdown",
   "metadata": {}
  },
  {
   "cell_type": "code",
   "execution_count": 1,
   "metadata": {},
   "outputs": [
    {
     "output_type": "execute_result",
     "data": {
      "text/plain": [
       "       Origin_file_order     Site                           p_id  \\\n",
       "0                  30126       FB  96844400700_10157493758850701   \n",
       "1                  30226       FB  96844400700_10157493758850701   \n",
       "2                  60063       FB  96844400700_10157493758850701   \n",
       "3                  60852       FB  96844400700_10157493758850701   \n",
       "4                  61557       FB  96844400700_10157493758850701   \n",
       "...                  ...      ...                            ...   \n",
       "78170              70705  Twitter          1.11852926516164E+018   \n",
       "78171              43288  Twitter          1.11846561220288E+018   \n",
       "78172              70478  Twitter          1.11825025930045E+018   \n",
       "78173              69430  Twitter          1.11824474991438E+018   \n",
       "78174              45602  Twitter          1.11780731706662E+018   \n",
       "\n",
       "                dateCreated      p_politician p_gender p_GRUPPO_PE  \\\n",
       "0      2019-04-23T10:33:37Z  MARCELLO GEMMATO        M         PPE   \n",
       "1      2019-04-23T10:33:37Z  MARCELLO GEMMATO        M         PPE   \n",
       "2      2019-04-23T10:33:37Z  MARCELLO GEMMATO        M         PPE   \n",
       "3      2019-04-23T10:33:37Z  MARCELLO GEMMATO        M         PPE   \n",
       "4      2019-04-23T10:33:37Z  MARCELLO GEMMATO        M         PPE   \n",
       "...                     ...               ...      ...         ...   \n",
       "78170  2019-04-17T14:58:52Z    MATTEO SALVINI        M        EFDD   \n",
       "78171  2019-04-17T10:45:56Z     CÉCILE KYENGE        F         PSE   \n",
       "78172  2019-04-16T20:30:12Z    MATTEO SALVINI        M        EFDD   \n",
       "78173  2019-04-16T20:08:19Z    MATTEO SALVINI        M        EFDD   \n",
       "78174  2019-04-15T15:10:06Z    MATTEO SALVINI        M        EFDD   \n",
       "\n",
       "             p_LISTA p_PARTITO    p_governo  ... p_Comma p_Colon p_SemiC  \\\n",
       "0                FDI       FDI  opposizione  ...    0.00    0.00     0.0   \n",
       "1                FDI       FDI  opposizione  ...    0.00    0.00     0.0   \n",
       "2                FDI       FDI  opposizione  ...   16.67    0.00     0.0   \n",
       "3                FDI       FDI  opposizione  ...   22.22    0.00     0.0   \n",
       "4                FDI       FDI  opposizione  ...   22.22    0.00     0.0   \n",
       "...              ...       ...          ...  ...     ...     ...     ...   \n",
       "78170           LEGA      Lega      governo  ...    6.82    2.27     0.0   \n",
       "78171  Siamo Europei        PD  opposizione  ...    6.82    2.27     0.0   \n",
       "78172           LEGA      Lega      governo  ...    3.12    6.25     0.0   \n",
       "78173           LEGA      Lega      governo  ...    5.41    2.70     0.0   \n",
       "78174           LEGA      Lega      governo  ...    3.92    0.00     0.0   \n",
       "\n",
       "       p_Qmark  p_Exclam  p_Dash  p_Quote  p_Apostro  p_Parenth p_OtherP  \n",
       "0          0.0       0.0     0.0      0.0       0.00        0.0     0.00  \n",
       "1          0.0       0.0     0.0      0.0       0.00        0.0     0.00  \n",
       "2          0.0       0.0     0.0      0.0       0.00        0.0     0.00  \n",
       "3          0.0       0.0     0.0      0.0      11.11        0.0     0.00  \n",
       "4          0.0       0.0     0.0      0.0      11.11        0.0     0.00  \n",
       "...        ...       ...     ...      ...        ...        ...      ...  \n",
       "78170      0.0       0.0     0.0      0.0       6.82        0.0     6.82  \n",
       "78171      0.0       0.0     0.0      0.0       6.82        0.0     6.82  \n",
       "78172      0.0       0.0     0.0      0.0       0.00        0.0     9.38  \n",
       "78173      0.0       0.0     0.0      0.0       0.00        0.0    13.51  \n",
       "78174      0.0       0.0     0.0      0.0       0.00        0.0     0.00  \n",
       "\n",
       "[78175 rows x 243 columns]"
      ],
      "text/html": "<div>\n<style scoped>\n    .dataframe tbody tr th:only-of-type {\n        vertical-align: middle;\n    }\n\n    .dataframe tbody tr th {\n        vertical-align: top;\n    }\n\n    .dataframe thead th {\n        text-align: right;\n    }\n</style>\n<table border=\"1\" class=\"dataframe\">\n  <thead>\n    <tr style=\"text-align: right;\">\n      <th></th>\n      <th>Origin_file_order</th>\n      <th>Site</th>\n      <th>p_id</th>\n      <th>dateCreated</th>\n      <th>p_politician</th>\n      <th>p_gender</th>\n      <th>p_GRUPPO_PE</th>\n      <th>p_LISTA</th>\n      <th>p_PARTITO</th>\n      <th>p_governo</th>\n      <th>...</th>\n      <th>p_Comma</th>\n      <th>p_Colon</th>\n      <th>p_SemiC</th>\n      <th>p_Qmark</th>\n      <th>p_Exclam</th>\n      <th>p_Dash</th>\n      <th>p_Quote</th>\n      <th>p_Apostro</th>\n      <th>p_Parenth</th>\n      <th>p_OtherP</th>\n    </tr>\n  </thead>\n  <tbody>\n    <tr>\n      <th>0</th>\n      <td>30126</td>\n      <td>FB</td>\n      <td>96844400700_10157493758850701</td>\n      <td>2019-04-23T10:33:37Z</td>\n      <td>MARCELLO GEMMATO</td>\n      <td>M</td>\n      <td>PPE</td>\n      <td>FDI</td>\n      <td>FDI</td>\n      <td>opposizione</td>\n      <td>...</td>\n      <td>0.00</td>\n      <td>0.00</td>\n      <td>0.0</td>\n      <td>0.0</td>\n      <td>0.0</td>\n      <td>0.0</td>\n      <td>0.0</td>\n      <td>0.00</td>\n      <td>0.0</td>\n      <td>0.00</td>\n    </tr>\n    <tr>\n      <th>1</th>\n      <td>30226</td>\n      <td>FB</td>\n      <td>96844400700_10157493758850701</td>\n      <td>2019-04-23T10:33:37Z</td>\n      <td>MARCELLO GEMMATO</td>\n      <td>M</td>\n      <td>PPE</td>\n      <td>FDI</td>\n      <td>FDI</td>\n      <td>opposizione</td>\n      <td>...</td>\n      <td>0.00</td>\n      <td>0.00</td>\n      <td>0.0</td>\n      <td>0.0</td>\n      <td>0.0</td>\n      <td>0.0</td>\n      <td>0.0</td>\n      <td>0.00</td>\n      <td>0.0</td>\n      <td>0.00</td>\n    </tr>\n    <tr>\n      <th>2</th>\n      <td>60063</td>\n      <td>FB</td>\n      <td>96844400700_10157493758850701</td>\n      <td>2019-04-23T10:33:37Z</td>\n      <td>MARCELLO GEMMATO</td>\n      <td>M</td>\n      <td>PPE</td>\n      <td>FDI</td>\n      <td>FDI</td>\n      <td>opposizione</td>\n      <td>...</td>\n      <td>16.67</td>\n      <td>0.00</td>\n      <td>0.0</td>\n      <td>0.0</td>\n      <td>0.0</td>\n      <td>0.0</td>\n      <td>0.0</td>\n      <td>0.00</td>\n      <td>0.0</td>\n      <td>0.00</td>\n    </tr>\n    <tr>\n      <th>3</th>\n      <td>60852</td>\n      <td>FB</td>\n      <td>96844400700_10157493758850701</td>\n      <td>2019-04-23T10:33:37Z</td>\n      <td>MARCELLO GEMMATO</td>\n      <td>M</td>\n      <td>PPE</td>\n      <td>FDI</td>\n      <td>FDI</td>\n      <td>opposizione</td>\n      <td>...</td>\n      <td>22.22</td>\n      <td>0.00</td>\n      <td>0.0</td>\n      <td>0.0</td>\n      <td>0.0</td>\n      <td>0.0</td>\n      <td>0.0</td>\n      <td>11.11</td>\n      <td>0.0</td>\n      <td>0.00</td>\n    </tr>\n    <tr>\n      <th>4</th>\n      <td>61557</td>\n      <td>FB</td>\n      <td>96844400700_10157493758850701</td>\n      <td>2019-04-23T10:33:37Z</td>\n      <td>MARCELLO GEMMATO</td>\n      <td>M</td>\n      <td>PPE</td>\n      <td>FDI</td>\n      <td>FDI</td>\n      <td>opposizione</td>\n      <td>...</td>\n      <td>22.22</td>\n      <td>0.00</td>\n      <td>0.0</td>\n      <td>0.0</td>\n      <td>0.0</td>\n      <td>0.0</td>\n      <td>0.0</td>\n      <td>11.11</td>\n      <td>0.0</td>\n      <td>0.00</td>\n    </tr>\n    <tr>\n      <th>...</th>\n      <td>...</td>\n      <td>...</td>\n      <td>...</td>\n      <td>...</td>\n      <td>...</td>\n      <td>...</td>\n      <td>...</td>\n      <td>...</td>\n      <td>...</td>\n      <td>...</td>\n      <td>...</td>\n      <td>...</td>\n      <td>...</td>\n      <td>...</td>\n      <td>...</td>\n      <td>...</td>\n      <td>...</td>\n      <td>...</td>\n      <td>...</td>\n      <td>...</td>\n      <td>...</td>\n    </tr>\n    <tr>\n      <th>78170</th>\n      <td>70705</td>\n      <td>Twitter</td>\n      <td>1.11852926516164E+018</td>\n      <td>2019-04-17T14:58:52Z</td>\n      <td>MATTEO SALVINI</td>\n      <td>M</td>\n      <td>EFDD</td>\n      <td>LEGA</td>\n      <td>Lega</td>\n      <td>governo</td>\n      <td>...</td>\n      <td>6.82</td>\n      <td>2.27</td>\n      <td>0.0</td>\n      <td>0.0</td>\n      <td>0.0</td>\n      <td>0.0</td>\n      <td>0.0</td>\n      <td>6.82</td>\n      <td>0.0</td>\n      <td>6.82</td>\n    </tr>\n    <tr>\n      <th>78171</th>\n      <td>43288</td>\n      <td>Twitter</td>\n      <td>1.11846561220288E+018</td>\n      <td>2019-04-17T10:45:56Z</td>\n      <td>CÉCILE KYENGE</td>\n      <td>F</td>\n      <td>PSE</td>\n      <td>Siamo Europei</td>\n      <td>PD</td>\n      <td>opposizione</td>\n      <td>...</td>\n      <td>6.82</td>\n      <td>2.27</td>\n      <td>0.0</td>\n      <td>0.0</td>\n      <td>0.0</td>\n      <td>0.0</td>\n      <td>0.0</td>\n      <td>6.82</td>\n      <td>0.0</td>\n      <td>6.82</td>\n    </tr>\n    <tr>\n      <th>78172</th>\n      <td>70478</td>\n      <td>Twitter</td>\n      <td>1.11825025930045E+018</td>\n      <td>2019-04-16T20:30:12Z</td>\n      <td>MATTEO SALVINI</td>\n      <td>M</td>\n      <td>EFDD</td>\n      <td>LEGA</td>\n      <td>Lega</td>\n      <td>governo</td>\n      <td>...</td>\n      <td>3.12</td>\n      <td>6.25</td>\n      <td>0.0</td>\n      <td>0.0</td>\n      <td>0.0</td>\n      <td>0.0</td>\n      <td>0.0</td>\n      <td>0.00</td>\n      <td>0.0</td>\n      <td>9.38</td>\n    </tr>\n    <tr>\n      <th>78173</th>\n      <td>69430</td>\n      <td>Twitter</td>\n      <td>1.11824474991438E+018</td>\n      <td>2019-04-16T20:08:19Z</td>\n      <td>MATTEO SALVINI</td>\n      <td>M</td>\n      <td>EFDD</td>\n      <td>LEGA</td>\n      <td>Lega</td>\n      <td>governo</td>\n      <td>...</td>\n      <td>5.41</td>\n      <td>2.70</td>\n      <td>0.0</td>\n      <td>0.0</td>\n      <td>0.0</td>\n      <td>0.0</td>\n      <td>0.0</td>\n      <td>0.00</td>\n      <td>0.0</td>\n      <td>13.51</td>\n    </tr>\n    <tr>\n      <th>78174</th>\n      <td>45602</td>\n      <td>Twitter</td>\n      <td>1.11780731706662E+018</td>\n      <td>2019-04-15T15:10:06Z</td>\n      <td>MATTEO SALVINI</td>\n      <td>M</td>\n      <td>EFDD</td>\n      <td>LEGA</td>\n      <td>Lega</td>\n      <td>governo</td>\n      <td>...</td>\n      <td>3.92</td>\n      <td>0.00</td>\n      <td>0.0</td>\n      <td>0.0</td>\n      <td>0.0</td>\n      <td>0.0</td>\n      <td>0.0</td>\n      <td>0.00</td>\n      <td>0.0</td>\n      <td>0.00</td>\n    </tr>\n  </tbody>\n</table>\n<p>78175 rows × 243 columns</p>\n</div>"
     },
     "metadata": {},
     "execution_count": 1
    }
   ],
   "source": [
    "import pandas as pd \n",
    "import numpy as np \n",
    "\n",
    "import statsmodels\n",
    "import statsmodels.api as sm\n",
    "import scipy.stats as stats\n",
    "\n",
    "import matplotlib.pyplot as plt\n",
    "\n",
    "# import the csv file with JUST the politicians post\n",
    "comDB = pd.read_csv(r\"/Users/tassan-mazzoccoarthur/Desktop/NETWORK SCIENCE (MOD. B)/1_Project/database/com_liwc.csv\", sep='\\t', engine='python')\n",
    "\n",
    "df = pd.DataFrame(data=comDB)\n",
    "df"
   ]
  },
  {
   "source": [
    "# Matrix creation"
   ],
   "cell_type": "markdown",
   "metadata": {}
  },
  {
   "cell_type": "code",
   "execution_count": 2,
   "metadata": {},
   "outputs": [
    {
     "output_type": "stream",
     "name": "stdout",
     "text": [
      "(88393, 88393)\n"
     ]
    }
   ],
   "source": [
    "#Setting variables\n",
    "size_df= len(df)\n",
    "parties=df['p_PARTITO'].unique().tolist()\n",
    "pol=df['p_politician'].unique().tolist()\n",
    "post=df['p_id'].unique().tolist()\n",
    "\n",
    "#Matrix shape= root/party/party.....pol/pol/pol/...../post/post/.../com/com\n",
    "total_size=1+len(parties)+len(pol)+len(post)+size_df\n",
    "shift_size=1+len(parties)+len(pol)+len(post)\n",
    "matrix = np.identity(total_size,dtype=int)\n",
    "\n",
    "for i in range(size_df):\n",
    "    #for each post with have to add 1 to the link party-politician, 1 to the link politician-post, 1 to the link post-comment\n",
    "    index_party=parties.index(df['p_PARTITO'][i])+1 #add 1 for the root element\n",
    "    index_pol=pol.index(df['p_politician'][i])+1+len(parties)\n",
    "    index_post=post.index(df['p_id'][i])+1+len(parties)+len(pol)\n",
    "\n",
    "    #We fill the 1rst half of the matrix\n",
    "    matrix[0][index_party]+=1 #add 1 to link root-party\n",
    "    matrix[index_party][index_pol]+=1 #add 1 to the link party-politician\n",
    "    matrix[index_pol][i+1+len(parties)+len(pol)]+=1 #1 to the link politician-post\n",
    "    matrix[index_post][i+shift_size]+=1 #1 to the link post-comment\n",
    "    #now we fill the other half (lower-left one)\n",
    "    matrix[index_party][0]+=1\n",
    "    matrix[index_pol][index_party]+=1\n",
    "    matrix[i+1+len(parties)+len(pol)][index_pol]+=1 \n",
    "    matrix[i+shift_size][index_post]+=1\n",
    "\n",
    "m=np.asmatrix(matrix)\n",
    "print(m.shape)"
   ]
  },
  {
   "cell_type": "code",
   "execution_count": 3,
   "metadata": {},
   "outputs": [
    {
     "output_type": "stream",
     "name": "stdout",
     "text": [
      "[[    1 10245 18760  9544  5296  1692  1659 20519  7224  3236     0     0     0     0     0     0     0     0     0     0]\n [10245     1     0     0     0     0     0     0     0     0   663     0     0  2113     0     0     0     0     0  3499]\n [18760     0     1     0     0     0     0     0     0     0     0   911  2200     0     0     0  1458     0     0     0]\n [ 9544     0     0     1     0     0     0     0     0     0     0     0     0     0  1561  2580     0     0     0     0]\n [ 5296     0     0     0     1     0     0     0     0     0     0     0     0     0     0     0     0  1252     0     0]\n [ 1692     0     0     0     0     1     0     0     0     0     0     0     0     0     0     0     0     0  1249     0]\n [ 1659     0     0     0     0     0     1     0     0     0     0     0     0     0     0     0     0     0     0     0]\n [20519     0     0     0     0     0     0     1     0     0     0     0     0     0     0     0     0     0     0     0]\n [ 7224     0     0     0     0     0     0     0     1     0     0     0     0     0     0     0     0     0     0     0]\n [ 3236     0     0     0     0     0     0     0     0     1     0     0     0     0     0     0     0     0     0     0]\n [    0   663     0     0     0     0     0     0     0     0     1     0     0     0     0     0     0     0     0     0]\n [    0     0   911     0     0     0     0     0     0     0     0     1     0     0     0     0     0     0     0     0]\n [    0     0  2200     0     0     0     0     0     0     0     0     0     1     0     0     0     0     0     0     0]\n [    0  2113     0     0     0     0     0     0     0     0     0     0     0     1     0     0     0     0     0     0]\n [    0     0     0  1561     0     0     0     0     0     0     0     0     0     0     1     0     0     0     0     0]\n [    0     0     0  2580     0     0     0     0     0     0     0     0     0     0     0     1     0     0     0     0]\n [    0     0  1458     0     0     0     0     0     0     0     0     0     0     0     0     0     1     0     0     0]\n [    0     0     0     0  1252     0     0     0     0     0     0     0     0     0     0     0     0     1     0     0]\n [    0     0     0     0     0  1249     0     0     0     0     0     0     0     0     0     0     0     0     1     0]\n [    0  3499     0     0     0     0     0     0     0     0     0     0     0     0     0     0     0     0     0     1]]\n"
     ]
    }
   ],
   "source": [
    "import networkx as nx\n",
    "#First let's try with a small matrix\n",
    "m_trunc=m[:20,:20]\n",
    "np.set_printoptions(linewidth=200)\n",
    "print(m_trunc)\n",
    "G_trunc = nx.from_numpy_matrix(m_trunc)"
   ]
  },
  {
   "cell_type": "code",
   "execution_count": 4,
   "metadata": {},
   "outputs": [],
   "source": [
    "import math\n",
    "def create_attributes_dict_com(pandas_df, index_shift):\n",
    "    attributes=[\"p_PARTITO\"]\n",
    "    #attributes=[\"p_PARTITO\",\"p_politician\",\"p_favoriteCount\",\"p_shareCount\",\"p_replyCount\",\"p_numComments\",\"p_rating\",\"p_topic\",\"p_campagna\",\"c_rating\"]\n",
    "    att_dict = {} #final dict to be returned\n",
    "    for index in pandas_df.index:\n",
    "    #for index, row in pandas_df.iterrows():\n",
    "        #if index not in att_dict: #check seems to make issues...\n",
    "        temp_dict={}\n",
    "        for att in attributes:\n",
    "            #print(att)\n",
    "            #print(pandas_df[att][0])\n",
    "            #print(index)\n",
    "            #print(row)\n",
    "            #print(pandas_df[att][index])\n",
    "\n",
    "            #we need to delete the \"nan\" values\n",
    "            if(isinstance(pandas_df[att][index], float)):\n",
    "                if(not math.isnan(pandas_df[att][index])):\n",
    "                    temp_dict[att]=pandas_df[att][index]\n",
    "            else:\n",
    "                temp_dict[att]=pandas_df[att][index]\n",
    "        temp_dict[\"label\"]=index+shift_size\n",
    "        temp_dict[\"type\"]=\"com\"\n",
    "        att_dict[index+index_shift]=temp_dict.copy() #I'm afraid if shallow copy (not sure if usefull though)\n",
    "    return att_dict"
   ]
  },
  {
   "cell_type": "code",
   "execution_count": 5,
   "metadata": {},
   "outputs": [],
   "source": [
    "def add_post_pol_party_att(pandas_df, parties, politicians, posts): #param= lists\n",
    "    att_dict = {}\n",
    "    for i in range(len(parties)):\n",
    "        att_dict[i+1]={\"label\":parties[i], \"type\":\"party\"}\n",
    "    for i in range(len(politicians)):\n",
    "        att_dict[i+len(parties)+1] = {\"label\":politicians[i], \"type\":\"politician\"}\n",
    "    for i in range(len(posts)):\n",
    "        att_dict[i+len(parties)+len(politicians)+1] = {\"label\":posts[i], \"type\":\"post\"}\n",
    "    return att_dict"
   ]
  },
  {
   "cell_type": "code",
   "execution_count": 6,
   "metadata": {},
   "outputs": [],
   "source": [
    "#Apply function on real dataframe\n",
    "G = nx.from_numpy_matrix(m)"
   ]
  },
  {
   "cell_type": "code",
   "execution_count": null,
   "metadata": {},
   "outputs": [],
   "source": [
    "G"
   ]
  },
  {
   "cell_type": "code",
   "execution_count": null,
   "metadata": {},
   "outputs": [],
   "source": [
    "attributes_dict_com=create_attributes_dict_com(df,shift_size)\n",
    "missing_attributes_dict_com=add_post_pol_party_att(df,parties,pol, post)\n",
    "attributes_dict_com.update(missing_attributes_dict_com)ss"
   ]
  },
  {
   "cell_type": "code",
   "execution_count": null,
   "metadata": {},
   "outputs": [],
   "source": [
    "nx.set_node_attributes(G, attributes_dict_com)"
   ]
  },
  {
   "cell_type": "code",
   "execution_count": null,
   "metadata": {},
   "outputs": [],
   "source": [
    "nx.write_graphml(G, \"com_attributes_networkx_export.graphml\") "
   ]
  },
  {
   "cell_type": "code",
   "execution_count": null,
   "metadata": {},
   "outputs": [],
   "source": []
  }
 ]
}