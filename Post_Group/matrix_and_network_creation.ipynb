{
 "metadata": {
  "language_info": {
   "codemirror_mode": {
    "name": "ipython",
    "version": 3
   },
   "file_extension": ".py",
   "mimetype": "text/x-python",
   "name": "python",
   "nbconvert_exporter": "python",
   "pygments_lexer": "ipython3",
   "version": "3.9.0-final"
  },
  "orig_nbformat": 2,
  "kernelspec": {
   "name": "python3",
   "display_name": "Python 3.9.0 64-bit",
   "metadata": {
    "interpreter": {
     "hash": "ac2eaa0ea0ebeafcc7822e65e46aa9d4f966f30b695406963e145ea4a91cd4fc"
    }
   }
  }
 },
 "nbformat": 4,
 "nbformat_minor": 2,
 "cells": [
  {
   "source": [
    "# First: only with post db\n",
    "Import the data"
   ],
   "cell_type": "markdown",
   "metadata": {}
  },
  {
   "cell_type": "code",
   "execution_count": 3,
   "metadata": {},
   "outputs": [
    {
     "output_type": "execute_result",
     "data": {
      "text/plain": [
       "       Unnamed: 0  Origin_file_order     Site  \\\n",
       "0               0              30126       FB   \n",
       "1              15              53320       FB   \n",
       "2              16              78041       FB   \n",
       "3              17                229       FB   \n",
       "4              20              17457       FB   \n",
       "...           ...                ...      ...   \n",
       "10098       77924              41072  Twitter   \n",
       "10099       77928              43438  Twitter   \n",
       "10100       77963              79121       FB   \n",
       "10101       77993              80527       FB   \n",
       "10102       78060              79405       FB   \n",
       "\n",
       "                                   p_id           dateCreated  \\\n",
       "0         96844400700_10157493758850701  2019-04-23T10:33:37Z   \n",
       "1      911961728894076_2169530686470501  2019-04-17T12:50:26Z   \n",
       "2      667483386685540_1869411966492670  2019-05-21T15:13:32Z   \n",
       "3      667483386685540_1844118159022051  2019-05-05T08:53:55Z   \n",
       "4      667483386685540_1835929416507592  2019-04-29T15:12:05Z   \n",
       "...                                 ...                   ...   \n",
       "10098             1.11772429491684E+018  2019-04-15T09:40:12Z   \n",
       "10099             1.11771528814812E+018  2019-04-15T09:04:25Z   \n",
       "10100     56413702888_10157226250102889  2019-05-18T15:50:12Z   \n",
       "10101    252306033154_10156588128813155  2019-05-04T14:46:05Z   \n",
       "10102     56413702888_10157186418942889  2019-05-03T05:28:20Z   \n",
       "\n",
       "                                p_politician p_gender p_GRUPPO_PE  \\\n",
       "0                           MARCELLO GEMMATO        M         PPE   \n",
       "1                               IGOR GELARDA        M        EFDD   \n",
       "2      SILVIA SERAFINA DETTA NARDONE SARDONE        F        EFDD   \n",
       "3      SILVIA SERAFINA DETTA NARDONE SARDONE        F        EFDD   \n",
       "4      SILVIA SERAFINA DETTA NARDONE SARDONE        F        EFDD   \n",
       "...                                      ...      ...         ...   \n",
       "10098                         ANTONIO TAJANI        M         PPE   \n",
       "10099                          DAVID SASSOLI        M         PSE   \n",
       "10100                      DANIELA SANTANCHÉ        F         PPE   \n",
       "10101                         MATTEO SALVINI        M        EFDD   \n",
       "10102                      DANIELA SANTANCHÉ        F         PPE   \n",
       "\n",
       "             p_LISTA p_PARTITO  ... p_SemiC p_Qmark p_Exclam p_Dash  p_Quote  \\\n",
       "0                FDI       FDI  ...     0.0    0.00     0.00   0.00     0.00   \n",
       "1               LEGA      Lega  ...     0.0    0.00     0.00   0.00     0.00   \n",
       "2               LEGA      Lega  ...     0.0    0.00     0.00   0.00     0.00   \n",
       "3               LEGA      Lega  ...     0.0    0.00     0.00   0.00    19.35   \n",
       "4               LEGA      Lega  ...     0.0    0.00     0.47   0.23     0.93   \n",
       "...              ...       ...  ...     ...     ...      ...    ...      ...   \n",
       "10098             FI        FI  ...     0.0    0.00     0.00   0.00     0.00   \n",
       "10099  Siamo Europei        PD  ...     0.0    2.08     2.08   0.00     0.00   \n",
       "10100            FDI       FDI  ...     0.0   12.24    12.24   0.00     0.00   \n",
       "10101           LEGA      Lega  ...     0.0    1.75     1.75   0.00     3.51   \n",
       "10102            FDI       FDI  ...     0.0    1.85     0.00   0.00     0.00   \n",
       "\n",
       "       p_Apostro  p_Parenth  p_OtherP  Count  target1_2  \n",
       "0           0.00       0.00      0.00      1        NaN  \n",
       "1           0.00       0.00      0.00      1        NaN  \n",
       "2           0.00       0.00      0.00      1        NaN  \n",
       "3           0.00       6.45      0.00      1        NaN  \n",
       "4           0.93      11.19      0.93      1        NaN  \n",
       "...          ...        ...       ...    ...        ...  \n",
       "10098       0.00      12.50     31.25      1        NaN  \n",
       "10099       6.25       0.00      0.00      1        NaN  \n",
       "10100       4.08       0.00      4.08      1        NaN  \n",
       "10101       1.75       3.51     10.53      1        NaN  \n",
       "10102       0.00       0.00      0.00      1        NaN  \n",
       "\n",
       "[10103 rows x 246 columns]"
      ],
      "text/html": "<div>\n<style scoped>\n    .dataframe tbody tr th:only-of-type {\n        vertical-align: middle;\n    }\n\n    .dataframe tbody tr th {\n        vertical-align: top;\n    }\n\n    .dataframe thead th {\n        text-align: right;\n    }\n</style>\n<table border=\"1\" class=\"dataframe\">\n  <thead>\n    <tr style=\"text-align: right;\">\n      <th></th>\n      <th>Unnamed: 0</th>\n      <th>Origin_file_order</th>\n      <th>Site</th>\n      <th>p_id</th>\n      <th>dateCreated</th>\n      <th>p_politician</th>\n      <th>p_gender</th>\n      <th>p_GRUPPO_PE</th>\n      <th>p_LISTA</th>\n      <th>p_PARTITO</th>\n      <th>...</th>\n      <th>p_SemiC</th>\n      <th>p_Qmark</th>\n      <th>p_Exclam</th>\n      <th>p_Dash</th>\n      <th>p_Quote</th>\n      <th>p_Apostro</th>\n      <th>p_Parenth</th>\n      <th>p_OtherP</th>\n      <th>Count</th>\n      <th>target1_2</th>\n    </tr>\n  </thead>\n  <tbody>\n    <tr>\n      <th>0</th>\n      <td>0</td>\n      <td>30126</td>\n      <td>FB</td>\n      <td>96844400700_10157493758850701</td>\n      <td>2019-04-23T10:33:37Z</td>\n      <td>MARCELLO GEMMATO</td>\n      <td>M</td>\n      <td>PPE</td>\n      <td>FDI</td>\n      <td>FDI</td>\n      <td>...</td>\n      <td>0.0</td>\n      <td>0.00</td>\n      <td>0.00</td>\n      <td>0.00</td>\n      <td>0.00</td>\n      <td>0.00</td>\n      <td>0.00</td>\n      <td>0.00</td>\n      <td>1</td>\n      <td>NaN</td>\n    </tr>\n    <tr>\n      <th>1</th>\n      <td>15</td>\n      <td>53320</td>\n      <td>FB</td>\n      <td>911961728894076_2169530686470501</td>\n      <td>2019-04-17T12:50:26Z</td>\n      <td>IGOR GELARDA</td>\n      <td>M</td>\n      <td>EFDD</td>\n      <td>LEGA</td>\n      <td>Lega</td>\n      <td>...</td>\n      <td>0.0</td>\n      <td>0.00</td>\n      <td>0.00</td>\n      <td>0.00</td>\n      <td>0.00</td>\n      <td>0.00</td>\n      <td>0.00</td>\n      <td>0.00</td>\n      <td>1</td>\n      <td>NaN</td>\n    </tr>\n    <tr>\n      <th>2</th>\n      <td>16</td>\n      <td>78041</td>\n      <td>FB</td>\n      <td>667483386685540_1869411966492670</td>\n      <td>2019-05-21T15:13:32Z</td>\n      <td>SILVIA SERAFINA DETTA NARDONE SARDONE</td>\n      <td>F</td>\n      <td>EFDD</td>\n      <td>LEGA</td>\n      <td>Lega</td>\n      <td>...</td>\n      <td>0.0</td>\n      <td>0.00</td>\n      <td>0.00</td>\n      <td>0.00</td>\n      <td>0.00</td>\n      <td>0.00</td>\n      <td>0.00</td>\n      <td>0.00</td>\n      <td>1</td>\n      <td>NaN</td>\n    </tr>\n    <tr>\n      <th>3</th>\n      <td>17</td>\n      <td>229</td>\n      <td>FB</td>\n      <td>667483386685540_1844118159022051</td>\n      <td>2019-05-05T08:53:55Z</td>\n      <td>SILVIA SERAFINA DETTA NARDONE SARDONE</td>\n      <td>F</td>\n      <td>EFDD</td>\n      <td>LEGA</td>\n      <td>Lega</td>\n      <td>...</td>\n      <td>0.0</td>\n      <td>0.00</td>\n      <td>0.00</td>\n      <td>0.00</td>\n      <td>19.35</td>\n      <td>0.00</td>\n      <td>6.45</td>\n      <td>0.00</td>\n      <td>1</td>\n      <td>NaN</td>\n    </tr>\n    <tr>\n      <th>4</th>\n      <td>20</td>\n      <td>17457</td>\n      <td>FB</td>\n      <td>667483386685540_1835929416507592</td>\n      <td>2019-04-29T15:12:05Z</td>\n      <td>SILVIA SERAFINA DETTA NARDONE SARDONE</td>\n      <td>F</td>\n      <td>EFDD</td>\n      <td>LEGA</td>\n      <td>Lega</td>\n      <td>...</td>\n      <td>0.0</td>\n      <td>0.00</td>\n      <td>0.47</td>\n      <td>0.23</td>\n      <td>0.93</td>\n      <td>0.93</td>\n      <td>11.19</td>\n      <td>0.93</td>\n      <td>1</td>\n      <td>NaN</td>\n    </tr>\n    <tr>\n      <th>...</th>\n      <td>...</td>\n      <td>...</td>\n      <td>...</td>\n      <td>...</td>\n      <td>...</td>\n      <td>...</td>\n      <td>...</td>\n      <td>...</td>\n      <td>...</td>\n      <td>...</td>\n      <td>...</td>\n      <td>...</td>\n      <td>...</td>\n      <td>...</td>\n      <td>...</td>\n      <td>...</td>\n      <td>...</td>\n      <td>...</td>\n      <td>...</td>\n      <td>...</td>\n      <td>...</td>\n    </tr>\n    <tr>\n      <th>10098</th>\n      <td>77924</td>\n      <td>41072</td>\n      <td>Twitter</td>\n      <td>1.11772429491684E+018</td>\n      <td>2019-04-15T09:40:12Z</td>\n      <td>ANTONIO TAJANI</td>\n      <td>M</td>\n      <td>PPE</td>\n      <td>FI</td>\n      <td>FI</td>\n      <td>...</td>\n      <td>0.0</td>\n      <td>0.00</td>\n      <td>0.00</td>\n      <td>0.00</td>\n      <td>0.00</td>\n      <td>0.00</td>\n      <td>12.50</td>\n      <td>31.25</td>\n      <td>1</td>\n      <td>NaN</td>\n    </tr>\n    <tr>\n      <th>10099</th>\n      <td>77928</td>\n      <td>43438</td>\n      <td>Twitter</td>\n      <td>1.11771528814812E+018</td>\n      <td>2019-04-15T09:04:25Z</td>\n      <td>DAVID SASSOLI</td>\n      <td>M</td>\n      <td>PSE</td>\n      <td>Siamo Europei</td>\n      <td>PD</td>\n      <td>...</td>\n      <td>0.0</td>\n      <td>2.08</td>\n      <td>2.08</td>\n      <td>0.00</td>\n      <td>0.00</td>\n      <td>6.25</td>\n      <td>0.00</td>\n      <td>0.00</td>\n      <td>1</td>\n      <td>NaN</td>\n    </tr>\n    <tr>\n      <th>10100</th>\n      <td>77963</td>\n      <td>79121</td>\n      <td>FB</td>\n      <td>56413702888_10157226250102889</td>\n      <td>2019-05-18T15:50:12Z</td>\n      <td>DANIELA SANTANCHÉ</td>\n      <td>F</td>\n      <td>PPE</td>\n      <td>FDI</td>\n      <td>FDI</td>\n      <td>...</td>\n      <td>0.0</td>\n      <td>12.24</td>\n      <td>12.24</td>\n      <td>0.00</td>\n      <td>0.00</td>\n      <td>4.08</td>\n      <td>0.00</td>\n      <td>4.08</td>\n      <td>1</td>\n      <td>NaN</td>\n    </tr>\n    <tr>\n      <th>10101</th>\n      <td>77993</td>\n      <td>80527</td>\n      <td>FB</td>\n      <td>252306033154_10156588128813155</td>\n      <td>2019-05-04T14:46:05Z</td>\n      <td>MATTEO SALVINI</td>\n      <td>M</td>\n      <td>EFDD</td>\n      <td>LEGA</td>\n      <td>Lega</td>\n      <td>...</td>\n      <td>0.0</td>\n      <td>1.75</td>\n      <td>1.75</td>\n      <td>0.00</td>\n      <td>3.51</td>\n      <td>1.75</td>\n      <td>3.51</td>\n      <td>10.53</td>\n      <td>1</td>\n      <td>NaN</td>\n    </tr>\n    <tr>\n      <th>10102</th>\n      <td>78060</td>\n      <td>79405</td>\n      <td>FB</td>\n      <td>56413702888_10157186418942889</td>\n      <td>2019-05-03T05:28:20Z</td>\n      <td>DANIELA SANTANCHÉ</td>\n      <td>F</td>\n      <td>PPE</td>\n      <td>FDI</td>\n      <td>FDI</td>\n      <td>...</td>\n      <td>0.0</td>\n      <td>1.85</td>\n      <td>0.00</td>\n      <td>0.00</td>\n      <td>0.00</td>\n      <td>0.00</td>\n      <td>0.00</td>\n      <td>0.00</td>\n      <td>1</td>\n      <td>NaN</td>\n    </tr>\n  </tbody>\n</table>\n<p>10103 rows × 246 columns</p>\n</div>"
     },
     "metadata": {},
     "execution_count": 3
    }
   ],
   "source": [
    "import pandas as pd \n",
    "import numpy as np \n",
    "\n",
    "import statsmodels\n",
    "import statsmodels.api as sm\n",
    "import scipy.stats as stats\n",
    "\n",
    "import matplotlib.pyplot as plt\n",
    "\n",
    "# import the csv file with JUST the politicians post\n",
    "postDB = pd.read_csv(r\"/Users/tassan-mazzoccoarthur/Desktop/NETWORK SCIENCE (MOD. B)/1_Project/database/postDB.csv\", engine='python')\n",
    "\n",
    "df_post = pd.DataFrame(data=postDB)\n",
    "df_post"
   ]
  },
  {
   "source": [
    "Create the matrix"
   ],
   "cell_type": "markdown",
   "metadata": {}
  },
  {
   "cell_type": "code",
   "execution_count": 26,
   "metadata": {},
   "outputs": [
    {
     "output_type": "stream",
     "name": "stdout",
     "text": [
      "1\n<class 'list'>\n['MARCELLO GEMMATO', 'IGOR GELARDA', 'SILVIA SERAFINA DETTA NARDONE SARDONE', 'DANIELA SANTANCHÉ', 'IGNAZIO CORRAO', 'LUIGI DI MAIO', 'ANGELO CIOCCA', 'LORENZO TOSA', 'BEATRICE BRIGNONE', 'GIORGIA MELONI', 'RAFFAELE FITTO', 'ISABELLA TOVAGLIERI', 'PIPPO CIVATI', 'SUSANNA CECCARDI', 'DANTE CATTANEO', 'MATTEO SALVINI', 'CAIO GIULIO CESARE MUSSOLINI', 'PINA (GIUSEPPINA) PICIERNO', 'MARA BIZZOTTO', 'MATTEO GAZZINI', 'LARA COMI', 'AURELIO TOMMASETTI', 'GIOSI FERRANDINO', 'CÉCILE KYENGE', 'NICOLA ZINGARETTI', 'PIERFRANCESCO MAJORINO', 'ALESSANDRA MUSSOLINI', 'BENEDETTO DELLA VEDOVA', 'MARCO ZANNI', 'ANTONIO TAJANI', 'GIANNA GANCIA', 'FEDERICO PIZZAROTTI', 'NICOLA DANTI', 'STEFANIA ZAMBELLI', 'CARLO CALENDA', 'NICOLA FRATOIANNI', 'ELISABETTA GARDINI', 'MARCO TARADASH', 'FILIPPO NOGARIN', 'MIA SPICOLA', 'DANIELA POGGIO', 'SILVIO BERLUSCONI', 'ANGELO BONELLI', 'FABIO MASSIMO CASTALDO', 'DINO GIARRUSSO', 'DAVID SASSOLI', 'PAOLO FERRERO', 'ALESSANDRA MORETTI', 'ALESSANDRA CAPPELLARI', 'LAURA FERRARA', 'PIERNICOLA PEDICINI', 'SIMONA BONAFÈ', 'IRENE TINAGLI', 'BEATRICE COVASSI', 'ANDREA COZZOLINO', 'GIULIANO PISAPIA', 'ANTONIO SILVIO CALÒ', 'FABRIZIO FERRANDELLI', 'DANIELA AIUTO', 'BRANDO BENIFEI', 'TIZIANA BEGHIN', 'ANNALISA CORRADO', 'CORRADINO MINEO', 'ELEONORA FORENZA', 'ANDREA SODDU', 'CARLO FIDANZA', 'ELENA LIZZI', 'ALDO PATRICIELLO', 'MATTEO ADINOLFI', 'RAFFAELE STANCANELLI', 'DANIELA RONDINELLI', 'MARIA CAROLINA VARCHI', 'CATERINA CHINNICI', 'DANILO OSCAR LANCINI', 'ELEONORA EVI', 'MARCO AFFRONTE', 'AMODEO ORLANDO']\n"
     ]
    },
    {
     "output_type": "execute_result",
     "data": {
      "text/plain": [
       "'\\n#CREATE MATRIX\\n#Matrix shape= root/party/party.....pol/pol/pol/...../post/post\\ntotal_size=1+len(parties)+len(pol)+size_df\\nmatrix = np.zeros((total_size,total_size))\\nfor i in range(size_df):\\n    #for each post with have to add 1 to the link party-politician and 1 to the link politician-post\\n    '"
      ]
     },
     "metadata": {},
     "execution_count": 26
    }
   ],
   "source": [
    "#GETTING HAND ON THE DATAFRAME\n",
    "size_df= len(df_post)\n",
    "#find all parties\n",
    "parties=df_post['p_PARTITO'].unique().tolist()\n",
    "parties #type=list\n",
    "\n",
    "#find all politicians\n",
    "pol=df_post['p_politician'].unique().tolist()\n",
    "#len(pol)\n",
    "#print(pol)\n",
    "\n",
    "a=pol.index(\"IGOR GELARDA\")\n",
    "#print(a)\n",
    "\n",
    "\n",
    "\"\"\"\n",
    "#CREATE MATRIX\n",
    "#Matrix shape= root/party/party.....pol/pol/pol/...../post/post\n",
    "total_size=1+len(parties)+len(pol)+size_df\n",
    "matrix = np.zeros((total_size,total_size))\n",
    "for i in range(size_df):\n",
    "    #for each post with have to add 1 to the link party-politician and 1 to the link politician-post\n",
    "    \"\"\"\n"
   ]
  },
  {
   "cell_type": "code",
   "execution_count": null,
   "metadata": {},
   "outputs": [],
   "source": []
  },
  {
   "cell_type": "code",
   "execution_count": null,
   "metadata": {},
   "outputs": [],
   "source": []
  },
  {
   "cell_type": "code",
   "execution_count": null,
   "metadata": {},
   "outputs": [],
   "source": []
  },
  {
   "cell_type": "code",
   "execution_count": null,
   "metadata": {},
   "outputs": [],
   "source": []
  },
  {
   "cell_type": "code",
   "execution_count": null,
   "metadata": {},
   "outputs": [],
   "source": []
  },
  {
   "cell_type": "code",
   "execution_count": 17,
   "metadata": {
    "tags": []
   },
   "outputs": [
    {
     "output_type": "execute_result",
     "data": {
      "text/plain": [
       "77"
      ]
     },
     "metadata": {},
     "execution_count": 17
    }
   ],
   "source": []
  },
  {
   "cell_type": "code",
   "execution_count": null,
   "metadata": {},
   "outputs": [],
   "source": []
  },
  {
   "cell_type": "code",
   "execution_count": null,
   "metadata": {},
   "outputs": [],
   "source": []
  }
 ]
}